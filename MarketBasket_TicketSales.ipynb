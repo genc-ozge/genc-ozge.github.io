{
  "nbformat": 4,
  "nbformat_minor": 0,
  "metadata": {
    "colab": {
      "provenance": [],
      "toc_visible": true,
      "authorship_tag": "ABX9TyOTiXefQ8fQBycLpvOxkUlt",
      "include_colab_link": true
    },
    "kernelspec": {
      "name": "python3",
      "display_name": "Python 3"
    },
    "language_info": {
      "name": "python"
    }
  },
  "cells": [
    {
      "cell_type": "markdown",
      "metadata": {
        "id": "view-in-github",
        "colab_type": "text"
      },
      "source": [
        "<a href=\"https://colab.research.google.com/github/genc-ozge/genc-ozge.github.io/blob/main/MarketBasket_TicketSales.ipynb\" target=\"_parent\"><img src=\"https://colab.research.google.com/assets/colab-badge.svg\" alt=\"Open In Colab\"/></a>"
      ]
    },
    {
      "cell_type": "markdown",
      "source": [
        "#Market Basket Analysis | Ticket Sales Data\n",
        "\n",
        "The purpose of this study is to analyze ticket sales data from a cultural institution and employ market basket analysis to establish association rules between festivals and their corresponding venues. This study seeks to address the following issue: analyzing ticket sales data for a cultural institution that organizes festivals and one-time events throughout the year to define association rules between venues and festivals. These association rules can find applications in various direct marketing activities, such as providing event recommendations on websites, delivering personalized e-bulletins, and offering customized event suggestions on mobile applications. For instance, if an individual purchases a ticket for an event at a specific venue, they can receive a triggered email containing recommended events and venues based on the established association rules. Furthermore, the study aims to gain insights into audience behavior. The Python language is employed for data cleansing, algorithm application, and results presentation. Once the association rules are established, they can be leveraged in future recommendation projects."
      ],
      "metadata": {
        "id": "FjBSryFS9o8L"
      }
    },
    {
      "cell_type": "markdown",
      "source": [
        "## Data\n",
        "The data consists of ticket sales transactions from a cultural institution.\n",
        "\n",
        "The transactional data includes detailed information for each ticket sales transaction, including:\n",
        "\n",
        "- Customer ID\n",
        "- Purchase date and time\n",
        "- Performance name\n",
        "- Performance venue\n",
        "\n",
        "The festivals and their corresponding venues are as follows:\n",
        "\n",
        "- Festival F: A film festival with seven venues (Venue names: F1, F2, F3, ..., F7)\n",
        "- Festival M: A music festival with eleven venues (Venue names: M1, M2, M3, ..., M11)\n",
        "- Festival C: A jazz festival with fifteen venues (Venue names: C1, C2, ..., C15)\n",
        "- Festival S: Concerts and special events with two venues (Venue names: S1, S2)\n",
        "\n",
        "The original customer IDs have been replaced with sequential numbers from 1 to 23,739 for the purpose of this study. In the original data, certain transactions lack customer IDs due to the ticket holders being listed as anonymous. These transactions have been excluded from the study, and only transactions with valid customer IDs are considered."
      ],
      "metadata": {
        "id": "aG0f4Sgw-BJS"
      }
    },
    {
      "cell_type": "markdown",
      "source": [
        "## Pre-Processing for Apriori Algorithm\n",
        "\n",
        "During the data cleaning stage, the following assumptions are taken into account, and the data is simplified and these transactions are excluded:\n",
        "\n",
        "- return ticket transactions: It is assumed that all purchased tickets are not returned. While this assumption may not be entirely realistic, considering the limited timeframe of available transactions, it is impractical to identify all returned tickets accurately.\n",
        "- exclusive events within the festivals.\n",
        "- voucher transactions; only purchased tickets are considered.\n",
        "- anonymous transactions: Transactions without a customer ID are omitted.\n",
        "\n",
        "After finalizing the cleaning process, the dataset is used for subsequent pre-processing steps in implementing the apriori algorithm."
      ],
      "metadata": {
        "id": "CE0psqhM-gTp"
      }
    },
    {
      "cell_type": "code",
      "source": [
        "!pip install apyori\n",
        "\n",
        "#importing the required libraries\n",
        "import numpy as np\n",
        "import seaborn as sns\n",
        "import matplotlib.pyplot as plt\n",
        "import pandas as pd\n",
        "from apyori import apriori\n",
        "\n"
      ],
      "metadata": {
        "colab": {
          "base_uri": "https://localhost:8080/"
        },
        "id": "-H13-Ty--gGB",
        "outputId": "7d8290f7-5f52-49dc-a68f-3ebb5738e8a5"
      },
      "execution_count": null,
      "outputs": [
        {
          "output_type": "stream",
          "name": "stdout",
          "text": [
            "Requirement already satisfied: apyori in /usr/local/lib/python3.10/dist-packages (1.1.2)\n"
          ]
        }
      ]
    },
    {
      "cell_type": "code",
      "execution_count": null,
      "metadata": {
        "colab": {
          "base_uri": "https://localhost:8080/",
          "height": 91
        },
        "id": "MZuClzvv584C",
        "outputId": "81808ab5-b355-42e6-8848-13ba31ce07dd"
      },
      "outputs": [
        {
          "output_type": "display_data",
          "data": {
            "text/plain": [
              "<IPython.core.display.HTML object>"
            ],
            "text/html": [
              "\n",
              "     <input type=\"file\" id=\"files-0b214788-d4a8-4679-8fa6-91b4d636bdf9\" name=\"files[]\" multiple disabled\n",
              "        style=\"border:none\" />\n",
              "     <output id=\"result-0b214788-d4a8-4679-8fa6-91b4d636bdf9\">\n",
              "      Upload widget is only available when the cell has been executed in the\n",
              "      current browser session. Please rerun this cell to enable.\n",
              "      </output>\n",
              "      <script>// Copyright 2017 Google LLC\n",
              "//\n",
              "// Licensed under the Apache License, Version 2.0 (the \"License\");\n",
              "// you may not use this file except in compliance with the License.\n",
              "// You may obtain a copy of the License at\n",
              "//\n",
              "//      http://www.apache.org/licenses/LICENSE-2.0\n",
              "//\n",
              "// Unless required by applicable law or agreed to in writing, software\n",
              "// distributed under the License is distributed on an \"AS IS\" BASIS,\n",
              "// WITHOUT WARRANTIES OR CONDITIONS OF ANY KIND, either express or implied.\n",
              "// See the License for the specific language governing permissions and\n",
              "// limitations under the License.\n",
              "\n",
              "/**\n",
              " * @fileoverview Helpers for google.colab Python module.\n",
              " */\n",
              "(function(scope) {\n",
              "function span(text, styleAttributes = {}) {\n",
              "  const element = document.createElement('span');\n",
              "  element.textContent = text;\n",
              "  for (const key of Object.keys(styleAttributes)) {\n",
              "    element.style[key] = styleAttributes[key];\n",
              "  }\n",
              "  return element;\n",
              "}\n",
              "\n",
              "// Max number of bytes which will be uploaded at a time.\n",
              "const MAX_PAYLOAD_SIZE = 100 * 1024;\n",
              "\n",
              "function _uploadFiles(inputId, outputId) {\n",
              "  const steps = uploadFilesStep(inputId, outputId);\n",
              "  const outputElement = document.getElementById(outputId);\n",
              "  // Cache steps on the outputElement to make it available for the next call\n",
              "  // to uploadFilesContinue from Python.\n",
              "  outputElement.steps = steps;\n",
              "\n",
              "  return _uploadFilesContinue(outputId);\n",
              "}\n",
              "\n",
              "// This is roughly an async generator (not supported in the browser yet),\n",
              "// where there are multiple asynchronous steps and the Python side is going\n",
              "// to poll for completion of each step.\n",
              "// This uses a Promise to block the python side on completion of each step,\n",
              "// then passes the result of the previous step as the input to the next step.\n",
              "function _uploadFilesContinue(outputId) {\n",
              "  const outputElement = document.getElementById(outputId);\n",
              "  const steps = outputElement.steps;\n",
              "\n",
              "  const next = steps.next(outputElement.lastPromiseValue);\n",
              "  return Promise.resolve(next.value.promise).then((value) => {\n",
              "    // Cache the last promise value to make it available to the next\n",
              "    // step of the generator.\n",
              "    outputElement.lastPromiseValue = value;\n",
              "    return next.value.response;\n",
              "  });\n",
              "}\n",
              "\n",
              "/**\n",
              " * Generator function which is called between each async step of the upload\n",
              " * process.\n",
              " * @param {string} inputId Element ID of the input file picker element.\n",
              " * @param {string} outputId Element ID of the output display.\n",
              " * @return {!Iterable<!Object>} Iterable of next steps.\n",
              " */\n",
              "function* uploadFilesStep(inputId, outputId) {\n",
              "  const inputElement = document.getElementById(inputId);\n",
              "  inputElement.disabled = false;\n",
              "\n",
              "  const outputElement = document.getElementById(outputId);\n",
              "  outputElement.innerHTML = '';\n",
              "\n",
              "  const pickedPromise = new Promise((resolve) => {\n",
              "    inputElement.addEventListener('change', (e) => {\n",
              "      resolve(e.target.files);\n",
              "    });\n",
              "  });\n",
              "\n",
              "  const cancel = document.createElement('button');\n",
              "  inputElement.parentElement.appendChild(cancel);\n",
              "  cancel.textContent = 'Cancel upload';\n",
              "  const cancelPromise = new Promise((resolve) => {\n",
              "    cancel.onclick = () => {\n",
              "      resolve(null);\n",
              "    };\n",
              "  });\n",
              "\n",
              "  // Wait for the user to pick the files.\n",
              "  const files = yield {\n",
              "    promise: Promise.race([pickedPromise, cancelPromise]),\n",
              "    response: {\n",
              "      action: 'starting',\n",
              "    }\n",
              "  };\n",
              "\n",
              "  cancel.remove();\n",
              "\n",
              "  // Disable the input element since further picks are not allowed.\n",
              "  inputElement.disabled = true;\n",
              "\n",
              "  if (!files) {\n",
              "    return {\n",
              "      response: {\n",
              "        action: 'complete',\n",
              "      }\n",
              "    };\n",
              "  }\n",
              "\n",
              "  for (const file of files) {\n",
              "    const li = document.createElement('li');\n",
              "    li.append(span(file.name, {fontWeight: 'bold'}));\n",
              "    li.append(span(\n",
              "        `(${file.type || 'n/a'}) - ${file.size} bytes, ` +\n",
              "        `last modified: ${\n",
              "            file.lastModifiedDate ? file.lastModifiedDate.toLocaleDateString() :\n",
              "                                    'n/a'} - `));\n",
              "    const percent = span('0% done');\n",
              "    li.appendChild(percent);\n",
              "\n",
              "    outputElement.appendChild(li);\n",
              "\n",
              "    const fileDataPromise = new Promise((resolve) => {\n",
              "      const reader = new FileReader();\n",
              "      reader.onload = (e) => {\n",
              "        resolve(e.target.result);\n",
              "      };\n",
              "      reader.readAsArrayBuffer(file);\n",
              "    });\n",
              "    // Wait for the data to be ready.\n",
              "    let fileData = yield {\n",
              "      promise: fileDataPromise,\n",
              "      response: {\n",
              "        action: 'continue',\n",
              "      }\n",
              "    };\n",
              "\n",
              "    // Use a chunked sending to avoid message size limits. See b/62115660.\n",
              "    let position = 0;\n",
              "    do {\n",
              "      const length = Math.min(fileData.byteLength - position, MAX_PAYLOAD_SIZE);\n",
              "      const chunk = new Uint8Array(fileData, position, length);\n",
              "      position += length;\n",
              "\n",
              "      const base64 = btoa(String.fromCharCode.apply(null, chunk));\n",
              "      yield {\n",
              "        response: {\n",
              "          action: 'append',\n",
              "          file: file.name,\n",
              "          data: base64,\n",
              "        },\n",
              "      };\n",
              "\n",
              "      let percentDone = fileData.byteLength === 0 ?\n",
              "          100 :\n",
              "          Math.round((position / fileData.byteLength) * 100);\n",
              "      percent.textContent = `${percentDone}% done`;\n",
              "\n",
              "    } while (position < fileData.byteLength);\n",
              "  }\n",
              "\n",
              "  // All done.\n",
              "  yield {\n",
              "    response: {\n",
              "      action: 'complete',\n",
              "    }\n",
              "  };\n",
              "}\n",
              "\n",
              "scope.google = scope.google || {};\n",
              "scope.google.colab = scope.google.colab || {};\n",
              "scope.google.colab._files = {\n",
              "  _uploadFiles,\n",
              "  _uploadFilesContinue,\n",
              "};\n",
              "})(self);\n",
              "</script> "
            ]
          },
          "metadata": {}
        },
        {
          "output_type": "stream",
          "name": "stdout",
          "text": [
            "Saving CustVenue.csv to CustVenue.csv\n",
            "User uploaded file \"CustVenue.csv\" with length 1554118 bytes\n"
          ]
        }
      ],
      "source": [
        "from google.colab import files\n",
        "\n",
        "uploaded = files.upload()\n",
        "\n",
        "for fn in uploaded.keys():\n",
        "  print('User uploaded file \"{name}\" with length {length} bytes'.format(\n",
        "      name=fn, length=len(uploaded[fn])))"
      ]
    },
    {
      "cell_type": "code",
      "source": [
        "#Read File\n",
        "myd = pd.read_csv('CustVenue.csv', sep=\";\")\n",
        "myd.head()"
      ],
      "metadata": {
        "colab": {
          "base_uri": "https://localhost:8080/",
          "height": 206
        },
        "id": "gC6J6G9E_7ds",
        "outputId": "223d3908-7337-4cc2-d15a-ed37c1a73e66"
      },
      "execution_count": null,
      "outputs": [
        {
          "output_type": "execute_result",
          "data": {
            "text/plain": [
              "   CustomerID VenueID   EventName\n",
              "0           1      M6  Festival M\n",
              "1           1      M1  Festival M\n",
              "2           1      M6  Festival M\n",
              "3           1     M11  Festival M\n",
              "4           2      M6  Festival M"
            ],
            "text/html": [
              "\n",
              "  <div id=\"df-e5e15b9a-8584-425a-a212-5f50fbaa255e\" class=\"colab-df-container\">\n",
              "    <div>\n",
              "<style scoped>\n",
              "    .dataframe tbody tr th:only-of-type {\n",
              "        vertical-align: middle;\n",
              "    }\n",
              "\n",
              "    .dataframe tbody tr th {\n",
              "        vertical-align: top;\n",
              "    }\n",
              "\n",
              "    .dataframe thead th {\n",
              "        text-align: right;\n",
              "    }\n",
              "</style>\n",
              "<table border=\"1\" class=\"dataframe\">\n",
              "  <thead>\n",
              "    <tr style=\"text-align: right;\">\n",
              "      <th></th>\n",
              "      <th>CustomerID</th>\n",
              "      <th>VenueID</th>\n",
              "      <th>EventName</th>\n",
              "    </tr>\n",
              "  </thead>\n",
              "  <tbody>\n",
              "    <tr>\n",
              "      <th>0</th>\n",
              "      <td>1</td>\n",
              "      <td>M6</td>\n",
              "      <td>Festival M</td>\n",
              "    </tr>\n",
              "    <tr>\n",
              "      <th>1</th>\n",
              "      <td>1</td>\n",
              "      <td>M1</td>\n",
              "      <td>Festival M</td>\n",
              "    </tr>\n",
              "    <tr>\n",
              "      <th>2</th>\n",
              "      <td>1</td>\n",
              "      <td>M6</td>\n",
              "      <td>Festival M</td>\n",
              "    </tr>\n",
              "    <tr>\n",
              "      <th>3</th>\n",
              "      <td>1</td>\n",
              "      <td>M11</td>\n",
              "      <td>Festival M</td>\n",
              "    </tr>\n",
              "    <tr>\n",
              "      <th>4</th>\n",
              "      <td>2</td>\n",
              "      <td>M6</td>\n",
              "      <td>Festival M</td>\n",
              "    </tr>\n",
              "  </tbody>\n",
              "</table>\n",
              "</div>\n",
              "    <div class=\"colab-df-buttons\">\n",
              "\n",
              "  <div class=\"colab-df-container\">\n",
              "    <button class=\"colab-df-convert\" onclick=\"convertToInteractive('df-e5e15b9a-8584-425a-a212-5f50fbaa255e')\"\n",
              "            title=\"Convert this dataframe to an interactive table.\"\n",
              "            style=\"display:none;\">\n",
              "\n",
              "  <svg xmlns=\"http://www.w3.org/2000/svg\" height=\"24px\" viewBox=\"0 -960 960 960\">\n",
              "    <path d=\"M120-120v-720h720v720H120Zm60-500h600v-160H180v160Zm220 220h160v-160H400v160Zm0 220h160v-160H400v160ZM180-400h160v-160H180v160Zm440 0h160v-160H620v160ZM180-180h160v-160H180v160Zm440 0h160v-160H620v160Z\"/>\n",
              "  </svg>\n",
              "    </button>\n",
              "\n",
              "  <style>\n",
              "    .colab-df-container {\n",
              "      display:flex;\n",
              "      gap: 12px;\n",
              "    }\n",
              "\n",
              "    .colab-df-convert {\n",
              "      background-color: #E8F0FE;\n",
              "      border: none;\n",
              "      border-radius: 50%;\n",
              "      cursor: pointer;\n",
              "      display: none;\n",
              "      fill: #1967D2;\n",
              "      height: 32px;\n",
              "      padding: 0 0 0 0;\n",
              "      width: 32px;\n",
              "    }\n",
              "\n",
              "    .colab-df-convert:hover {\n",
              "      background-color: #E2EBFA;\n",
              "      box-shadow: 0px 1px 2px rgba(60, 64, 67, 0.3), 0px 1px 3px 1px rgba(60, 64, 67, 0.15);\n",
              "      fill: #174EA6;\n",
              "    }\n",
              "\n",
              "    .colab-df-buttons div {\n",
              "      margin-bottom: 4px;\n",
              "    }\n",
              "\n",
              "    [theme=dark] .colab-df-convert {\n",
              "      background-color: #3B4455;\n",
              "      fill: #D2E3FC;\n",
              "    }\n",
              "\n",
              "    [theme=dark] .colab-df-convert:hover {\n",
              "      background-color: #434B5C;\n",
              "      box-shadow: 0px 1px 3px 1px rgba(0, 0, 0, 0.15);\n",
              "      filter: drop-shadow(0px 1px 2px rgba(0, 0, 0, 0.3));\n",
              "      fill: #FFFFFF;\n",
              "    }\n",
              "  </style>\n",
              "\n",
              "    <script>\n",
              "      const buttonEl =\n",
              "        document.querySelector('#df-e5e15b9a-8584-425a-a212-5f50fbaa255e button.colab-df-convert');\n",
              "      buttonEl.style.display =\n",
              "        google.colab.kernel.accessAllowed ? 'block' : 'none';\n",
              "\n",
              "      async function convertToInteractive(key) {\n",
              "        const element = document.querySelector('#df-e5e15b9a-8584-425a-a212-5f50fbaa255e');\n",
              "        const dataTable =\n",
              "          await google.colab.kernel.invokeFunction('convertToInteractive',\n",
              "                                                    [key], {});\n",
              "        if (!dataTable) return;\n",
              "\n",
              "        const docLinkHtml = 'Like what you see? Visit the ' +\n",
              "          '<a target=\"_blank\" href=https://colab.research.google.com/notebooks/data_table.ipynb>data table notebook</a>'\n",
              "          + ' to learn more about interactive tables.';\n",
              "        element.innerHTML = '';\n",
              "        dataTable['output_type'] = 'display_data';\n",
              "        await google.colab.output.renderOutput(dataTable, element);\n",
              "        const docLink = document.createElement('div');\n",
              "        docLink.innerHTML = docLinkHtml;\n",
              "        element.appendChild(docLink);\n",
              "      }\n",
              "    </script>\n",
              "  </div>\n",
              "\n",
              "\n",
              "<div id=\"df-8b19aee8-140c-4e34-9f7f-99409257dddd\">\n",
              "  <button class=\"colab-df-quickchart\" onclick=\"quickchart('df-8b19aee8-140c-4e34-9f7f-99409257dddd')\"\n",
              "            title=\"Suggest charts\"\n",
              "            style=\"display:none;\">\n",
              "\n",
              "<svg xmlns=\"http://www.w3.org/2000/svg\" height=\"24px\"viewBox=\"0 0 24 24\"\n",
              "     width=\"24px\">\n",
              "    <g>\n",
              "        <path d=\"M19 3H5c-1.1 0-2 .9-2 2v14c0 1.1.9 2 2 2h14c1.1 0 2-.9 2-2V5c0-1.1-.9-2-2-2zM9 17H7v-7h2v7zm4 0h-2V7h2v10zm4 0h-2v-4h2v4z\"/>\n",
              "    </g>\n",
              "</svg>\n",
              "  </button>\n",
              "\n",
              "<style>\n",
              "  .colab-df-quickchart {\n",
              "      --bg-color: #E8F0FE;\n",
              "      --fill-color: #1967D2;\n",
              "      --hover-bg-color: #E2EBFA;\n",
              "      --hover-fill-color: #174EA6;\n",
              "      --disabled-fill-color: #AAA;\n",
              "      --disabled-bg-color: #DDD;\n",
              "  }\n",
              "\n",
              "  [theme=dark] .colab-df-quickchart {\n",
              "      --bg-color: #3B4455;\n",
              "      --fill-color: #D2E3FC;\n",
              "      --hover-bg-color: #434B5C;\n",
              "      --hover-fill-color: #FFFFFF;\n",
              "      --disabled-bg-color: #3B4455;\n",
              "      --disabled-fill-color: #666;\n",
              "  }\n",
              "\n",
              "  .colab-df-quickchart {\n",
              "    background-color: var(--bg-color);\n",
              "    border: none;\n",
              "    border-radius: 50%;\n",
              "    cursor: pointer;\n",
              "    display: none;\n",
              "    fill: var(--fill-color);\n",
              "    height: 32px;\n",
              "    padding: 0;\n",
              "    width: 32px;\n",
              "  }\n",
              "\n",
              "  .colab-df-quickchart:hover {\n",
              "    background-color: var(--hover-bg-color);\n",
              "    box-shadow: 0 1px 2px rgba(60, 64, 67, 0.3), 0 1px 3px 1px rgba(60, 64, 67, 0.15);\n",
              "    fill: var(--button-hover-fill-color);\n",
              "  }\n",
              "\n",
              "  .colab-df-quickchart-complete:disabled,\n",
              "  .colab-df-quickchart-complete:disabled:hover {\n",
              "    background-color: var(--disabled-bg-color);\n",
              "    fill: var(--disabled-fill-color);\n",
              "    box-shadow: none;\n",
              "  }\n",
              "\n",
              "  .colab-df-spinner {\n",
              "    border: 2px solid var(--fill-color);\n",
              "    border-color: transparent;\n",
              "    border-bottom-color: var(--fill-color);\n",
              "    animation:\n",
              "      spin 1s steps(1) infinite;\n",
              "  }\n",
              "\n",
              "  @keyframes spin {\n",
              "    0% {\n",
              "      border-color: transparent;\n",
              "      border-bottom-color: var(--fill-color);\n",
              "      border-left-color: var(--fill-color);\n",
              "    }\n",
              "    20% {\n",
              "      border-color: transparent;\n",
              "      border-left-color: var(--fill-color);\n",
              "      border-top-color: var(--fill-color);\n",
              "    }\n",
              "    30% {\n",
              "      border-color: transparent;\n",
              "      border-left-color: var(--fill-color);\n",
              "      border-top-color: var(--fill-color);\n",
              "      border-right-color: var(--fill-color);\n",
              "    }\n",
              "    40% {\n",
              "      border-color: transparent;\n",
              "      border-right-color: var(--fill-color);\n",
              "      border-top-color: var(--fill-color);\n",
              "    }\n",
              "    60% {\n",
              "      border-color: transparent;\n",
              "      border-right-color: var(--fill-color);\n",
              "    }\n",
              "    80% {\n",
              "      border-color: transparent;\n",
              "      border-right-color: var(--fill-color);\n",
              "      border-bottom-color: var(--fill-color);\n",
              "    }\n",
              "    90% {\n",
              "      border-color: transparent;\n",
              "      border-bottom-color: var(--fill-color);\n",
              "    }\n",
              "  }\n",
              "</style>\n",
              "\n",
              "  <script>\n",
              "    async function quickchart(key) {\n",
              "      const quickchartButtonEl =\n",
              "        document.querySelector('#' + key + ' button');\n",
              "      quickchartButtonEl.disabled = true;  // To prevent multiple clicks.\n",
              "      quickchartButtonEl.classList.add('colab-df-spinner');\n",
              "      try {\n",
              "        const charts = await google.colab.kernel.invokeFunction(\n",
              "            'suggestCharts', [key], {});\n",
              "      } catch (error) {\n",
              "        console.error('Error during call to suggestCharts:', error);\n",
              "      }\n",
              "      quickchartButtonEl.classList.remove('colab-df-spinner');\n",
              "      quickchartButtonEl.classList.add('colab-df-quickchart-complete');\n",
              "    }\n",
              "    (() => {\n",
              "      let quickchartButtonEl =\n",
              "        document.querySelector('#df-8b19aee8-140c-4e34-9f7f-99409257dddd button');\n",
              "      quickchartButtonEl.style.display =\n",
              "        google.colab.kernel.accessAllowed ? 'block' : 'none';\n",
              "    })();\n",
              "  </script>\n",
              "</div>\n",
              "\n",
              "    </div>\n",
              "  </div>\n"
            ],
            "application/vnd.google.colaboratory.intrinsic+json": {
              "type": "dataframe",
              "variable_name": "myd",
              "summary": "{\n  \"name\": \"myd\",\n  \"rows\": 75319,\n  \"fields\": [\n    {\n      \"column\": \"CustomerID\",\n      \"properties\": {\n        \"dtype\": \"number\",\n        \"std\": 6736,\n        \"min\": 1,\n        \"max\": 23739,\n        \"num_unique_values\": 23614,\n        \"samples\": [\n          6650,\n          2254,\n          8898\n        ],\n        \"semantic_type\": \"\",\n        \"description\": \"\"\n      }\n    },\n    {\n      \"column\": \"VenueID\",\n      \"properties\": {\n        \"dtype\": \"category\",\n        \"num_unique_values\": 35,\n        \"samples\": [\n          \"M9\",\n          \"C5\",\n          \"M2\"\n        ],\n        \"semantic_type\": \"\",\n        \"description\": \"\"\n      }\n    },\n    {\n      \"column\": \"EventName\",\n      \"properties\": {\n        \"dtype\": \"category\",\n        \"num_unique_values\": 4,\n        \"samples\": [\n          \"Festival F\",\n          \"EventGroup S\",\n          \"Festival M\"\n        ],\n        \"semantic_type\": \"\",\n        \"description\": \"\"\n      }\n    }\n  ]\n}"
            }
          },
          "metadata": {},
          "execution_count": 9
        }
      ]
    },
    {
      "cell_type": "code",
      "source": [
        "print(myd.VenueID.unique())\n",
        "print(myd.CustomerID.unique())\n",
        "print(myd.EventName.unique())"
      ],
      "metadata": {
        "colab": {
          "base_uri": "https://localhost:8080/"
        },
        "id": "M2GxItRIBDXD",
        "outputId": "73f022cd-fbd1-4ca4-a635-31b0e461405d"
      },
      "execution_count": null,
      "outputs": [
        {
          "output_type": "stream",
          "name": "stdout",
          "text": [
            "['M6' 'M1' 'M11' 'F1' 'F3' 'F2' 'M4' 'M7' 'F4' 'C8' 'C3' 'S1' 'C11' 'C5'\n",
            " 'C13' 'C1' 'M8' 'M10' 'S2' 'F7' 'F5' 'C14' 'C4' 'C10' 'M2' 'C12' 'M9'\n",
            " 'C6' 'M3' 'F6' 'M5' 'C9' 'C2' 'C15' 'C7']\n",
            "[    1     2     3 ... 23737 23738 23739]\n",
            "['Festival M' 'Festival F' 'Festival C' 'EventGroup S']\n"
          ]
        }
      ]
    },
    {
      "cell_type": "code",
      "source": [
        "#changing the variable types to \"category\"\n",
        "\n",
        "myd[['VenueID','CustomerID']] = myd[['VenueID','CustomerID']].astype('category')"
      ],
      "metadata": {
        "id": "GmgyGPHDENz5"
      },
      "execution_count": null,
      "outputs": []
    },
    {
      "cell_type": "code",
      "source": [
        "#dropping the duplicates and EventName column\n",
        "\n",
        "myd=myd.drop_duplicates()\n",
        "myd1 = myd.drop(\"EventName\", axis=1)"
      ],
      "metadata": {
        "id": "N_qjiEYjEPWk"
      },
      "execution_count": null,
      "outputs": []
    },
    {
      "cell_type": "code",
      "source": [
        "#creating nmyl list for Apriori algorithm\n",
        "\n",
        "myl = myd1.values.tolist()\n",
        "values = set(map(lambda x:x[0],myl))\n",
        "nmyl = [[y[1] for y in myl if y[0] == x] for x in values]\n",
        "len(nmyl)"
      ],
      "metadata": {
        "colab": {
          "base_uri": "https://localhost:8080/"
        },
        "id": "DlQmfNXFESRQ",
        "outputId": "ae467d1c-e993-4453-9f96-a7272086c13f"
      },
      "execution_count": null,
      "outputs": [
        {
          "output_type": "execute_result",
          "data": {
            "text/plain": [
              "23614"
            ]
          },
          "metadata": {},
          "execution_count": 13
        }
      ]
    },
    {
      "cell_type": "code",
      "source": [
        "#training Apriori algorithm\n",
        "\n",
        "rules = apriori(nmyl, min_support=0.01, min_confidence=0.7, min_lift=3, min_length=2)\n",
        "\n",
        "# The results\n",
        "results = list(rules)\n",
        "print(results)"
      ],
      "metadata": {
        "colab": {
          "base_uri": "https://localhost:8080/"
        },
        "id": "Bd-NUZfEEVOZ",
        "outputId": "fb3f37dd-aa2a-4919-b149-85940c80b484"
      },
      "execution_count": null,
      "outputs": [
        {
          "output_type": "stream",
          "name": "stdout",
          "text": [
            "[RelationRecord(items=frozenset({'F3', 'F1', 'F2'}), support=0.04772592529855171, ordered_statistics=[OrderedStatistic(items_base=frozenset({'F3', 'F2'}), items_add=frozenset({'F1'}), confidence=0.820830298616169, lift=3.587467457250086)]), RelationRecord(items=frozenset({'F1', 'F4', 'F2'}), support=0.023164224612518, ordered_statistics=[OrderedStatistic(items_base=frozenset({'F4', 'F2'}), items_add=frozenset({'F1'}), confidence=0.8794212218649518, lift=3.8435411314304964)]), RelationRecord(items=frozenset({'F1', 'F2', 'F5'}), support=0.027441348352672142, ordered_statistics=[OrderedStatistic(items_base=frozenset({'F2', 'F5'}), items_add=frozenset({'F1'}), confidence=0.7641509433962265, lift=3.3397483578305556)]), RelationRecord(items=frozenset({'F1', 'F6', 'F2'}), support=0.019818751588040993, ordered_statistics=[OrderedStatistic(items_base=frozenset({'F6', 'F2'}), items_add=frozenset({'F1'}), confidence=0.8524590163934426, lift=3.725701871759162)]), RelationRecord(items=frozenset({'F1', 'F7', 'F2'}), support=0.030363343779114083, ordered_statistics=[OrderedStatistic(items_base=frozenset({'F7', 'F2'}), items_add=frozenset({'F1'}), confidence=0.781897491821156, lift=3.4173102668637383)]), RelationRecord(items=frozenset({'F3', 'F1', 'F4'}), support=0.03328533920555603, ordered_statistics=[OrderedStatistic(items_base=frozenset({'F1', 'F4'}), items_add=frozenset({'F3'}), confidence=0.7408105560791707, lift=4.510959378868885), OrderedStatistic(items_base=frozenset({'F3', 'F4'}), items_add=frozenset({'F1'}), confidence=0.7601547388781432, lift=3.322282806564589)]), RelationRecord(items=frozenset({'F3', 'F1', 'F5'}), support=0.03214194969086135, ordered_statistics=[OrderedStatistic(items_base=frozenset({'F3', 'F5'}), items_add=frozenset({'F1'}), confidence=0.7305101058710297, lift=3.192719903764297)]), RelationRecord(items=frozenset({'F3', 'F1', 'F6'}), support=0.022529008215465402, ordered_statistics=[OrderedStatistic(items_base=frozenset({'F3', 'F6'}), items_add=frozenset({'F1'}), confidence=0.8444444444444444, lift=3.690673905443478)]), RelationRecord(items=frozenset({'F1', 'F4', 'F5'}), support=0.01583806216651139, ordered_statistics=[OrderedStatistic(items_base=frozenset({'F4', 'F5'}), items_add=frozenset({'F1'}), confidence=0.7362204724409449, lift=3.217677260081524)]), RelationRecord(items=frozenset({'F1', 'F4', 'F6'}), support=0.011857372744981791, ordered_statistics=[OrderedStatistic(items_base=frozenset({'F4', 'F6'}), items_add=frozenset({'F1'}), confidence=0.86687306501548, lift=3.788698974139468)]), RelationRecord(items=frozenset({'F1', 'F4', 'F7'}), support=0.018971796391970865, ordered_statistics=[OrderedStatistic(items_base=frozenset({'F4', 'F7'}), items_add=frozenset({'F1'}), confidence=0.7380560131795717, lift=3.2256995549180836)]), RelationRecord(items=frozenset({'F1', 'F6', 'F5'}), support=0.01317015329889049, ordered_statistics=[OrderedStatistic(items_base=frozenset({'F6', 'F5'}), items_add=frozenset({'F1'}), confidence=0.7853535353535354, lift=3.4324150256965362)]), RelationRecord(items=frozenset({'F1', 'F6', 'F7'}), support=0.01444058609299568, ordered_statistics=[OrderedStatistic(items_base=frozenset({'F6', 'F7'}), items_add=frozenset({'F1'}), confidence=0.751101321585903, lift=3.2827145304330028)]), RelationRecord(items=frozenset({'F3', 'F4', 'F2'}), support=0.020538663504700603, ordered_statistics=[OrderedStatistic(items_base=frozenset({'F4', 'F2'}), items_add=frozenset({'F3'}), confidence=0.7797427652733119, lift=4.748026214328)]), RelationRecord(items=frozenset({'F3', 'F4', 'F6'}), support=0.01092572202930465, ordered_statistics=[OrderedStatistic(items_base=frozenset({'F4', 'F6'}), items_add=frozenset({'F3'}), confidence=0.7987616099071208, lift=4.863836167185855)]), RelationRecord(items=frozenset({'F3', 'F1', 'F4', 'F2'}), support=0.01867536207334632, ordered_statistics=[OrderedStatistic(items_base=frozenset({'F4', 'F2'}), items_add=frozenset({'F3', 'F1'}), confidence=0.7090032154340835, lift=7.164057308198736), OrderedStatistic(items_base=frozenset({'F1', 'F4', 'F2'}), items_add=frozenset({'F3'}), confidence=0.8062157221206581, lift=4.909225905661995), OrderedStatistic(items_base=frozenset({'F3', 'F4', 'F2'}), items_add=frozenset({'F1'}), confidence=0.9092783505154638, lift=3.974032753853815)]), RelationRecord(items=frozenset({'F3', 'F1', 'F2', 'F5'}), support=0.01761666807825866, ordered_statistics=[OrderedStatistic(items_base=frozenset({'F3', 'F2', 'F5'}), items_add=frozenset({'F1'}), confidence=0.8404040404040404, lift=3.673015178623174)]), RelationRecord(items=frozenset({'F3', 'F1', 'F6', 'F2'}), support=0.014228847293978148, ordered_statistics=[OrderedStatistic(items_base=frozenset({'F1', 'F6', 'F2'}), items_add=frozenset({'F3'}), confidence=0.717948717948718, lift=4.371748588355087), OrderedStatistic(items_base=frozenset({'F3', 'F6', 'F2'}), items_add=frozenset({'F1'}), confidence=0.9205479452054794, lift=4.023286910620431)]), RelationRecord(items=frozenset({'F3', 'F1', 'F7', 'F2'}), support=0.019691708308630474, ordered_statistics=[OrderedStatistic(items_base=frozenset({'F3', 'F7', 'F2'}), items_add=frozenset({'F1'}), confidence=0.842391304347826, lift=3.681700585021204)]), RelationRecord(items=frozenset({'F1', 'F4', 'F7', 'F2'}), support=0.010290505632252055, ordered_statistics=[OrderedStatistic(items_base=frozenset({'F4', 'F7', 'F2'}), items_add=frozenset({'F1'}), confidence=0.9067164179104478, lift=3.9628357380228234)]), RelationRecord(items=frozenset({'F1', 'F7', 'F2', 'F5'}), support=0.01867536207334632, ordered_statistics=[OrderedStatistic(items_base=frozenset({'F7', 'F2', 'F5'}), items_add=frozenset({'F1'}), confidence=0.8047445255474452, lift=3.5171640248523732)]), RelationRecord(items=frozenset({'F3', 'F1', 'F4', 'F5'}), support=0.011857372744981791, ordered_statistics=[OrderedStatistic(items_base=frozenset({'F1', 'F4', 'F5'}), items_add=frozenset({'F3'}), confidence=0.7486631016042782, lift=4.558775265931775), OrderedStatistic(items_base=frozenset({'F3', 'F4', 'F5'}), items_add=frozenset({'F1'}), confidence=0.8408408408408409, lift=3.674924230171315)]), RelationRecord(items=frozenset({'F3', 'F1', 'F4', 'F7'}), support=0.014652324892013213, ordered_statistics=[OrderedStatistic(items_base=frozenset({'F1', 'F4', 'F7'}), items_add=frozenset({'F3'}), confidence=0.7723214285714286, lift=4.702836053193841), OrderedStatistic(items_base=frozenset({'F3', 'F4', 'F7'}), items_add=frozenset({'F1'}), confidence=0.8179669030732861, lift=3.5749528871317007)]), RelationRecord(items=frozenset({'F3', 'F1', 'F7', 'F5'}), support=0.021682053019395273, ordered_statistics=[OrderedStatistic(items_base=frozenset({'F3', 'F7', 'F5'}), items_add=frozenset({'F1'}), confidence=0.7272727272727272, lift=3.17857082765467)]), RelationRecord(items=frozenset({'F3', 'F1', 'F6', 'F7'}), support=0.010163462352841535, ordered_statistics=[OrderedStatistic(items_base=frozenset({'F1', 'F6', 'F7'}), items_add=frozenset({'F3'}), confidence=0.7038123167155426, lift=4.285668913594848), OrderedStatistic(items_base=frozenset({'F3', 'F6', 'F7'}), items_add=frozenset({'F1'}), confidence=0.8759124087591241, lift=3.8282057413359167)]), RelationRecord(items=frozenset({'F1', 'F4', 'F7', 'F5'}), support=0.011095113068518675, ordered_statistics=[OrderedStatistic(items_base=frozenset({'F1', 'F4', 'F5'}), items_add=frozenset({'F7'}), confidence=0.7005347593582888, lift=4.085558855887041), OrderedStatistic(items_base=frozenset({'F4', 'F7', 'F5'}), items_add=frozenset({'F1'}), confidence=0.7572254335260116, lift=3.309480175325419)]), RelationRecord(items=frozenset({'F3', 'F7', 'F2', 'F5'}), support=0.014821715931227239, ordered_statistics=[OrderedStatistic(items_base=frozenset({'F3', 'F2', 'F5'}), items_add=frozenset({'F7'}), confidence=0.7070707070707072, lift=4.1236768774432395)]), RelationRecord(items=frozenset({'F3', 'F4', 'F7', 'F5'}), support=0.010036419073431016, ordered_statistics=[OrderedStatistic(items_base=frozenset({'F3', 'F4', 'F5'}), items_add=frozenset({'F7'}), confidence=0.7117117117117118, lift=4.150743482430319)]), RelationRecord(items=frozenset({'F5', 'F1', 'F3', 'F7', 'F2'}), support=0.012577284661641399, ordered_statistics=[OrderedStatistic(items_base=frozenset({'F3', 'F1', 'F2', 'F5'}), items_add=frozenset({'F7'}), confidence=0.7139423076923077, lift=4.163752445998062), OrderedStatistic(items_base=frozenset({'F3', 'F7', 'F2', 'F5'}), items_add=frozenset({'F1'}), confidence=0.8485714285714285, lift=3.708711033552788)])]\n"
          ]
        }
      ]
    },
    {
      "cell_type": "code",
      "source": [
        "#Since the results are mostly related to Festival F, we exclude Festival F\n",
        "myd2 = myd[myd.EventName != 'Festival F']\n",
        "print(myd2.VenueID.unique())"
      ],
      "metadata": {
        "colab": {
          "base_uri": "https://localhost:8080/"
        },
        "id": "gH8BTYJ9EYRp",
        "outputId": "768865d8-f1e6-4cfa-fb4c-46528884602d"
      },
      "execution_count": null,
      "outputs": [
        {
          "output_type": "stream",
          "name": "stdout",
          "text": [
            "['M6', 'M1', 'M11', 'M4', 'M7', ..., 'M5', 'C9', 'C2', 'C15', 'C7']\n",
            "Length: 28\n",
            "Categories (35, object): ['C1', 'C10', 'C11', 'C12', ..., 'M8', 'M9', 'S1', 'S2']\n"
          ]
        }
      ]
    },
    {
      "cell_type": "code",
      "source": [
        "#dropping EventName column for myd2(without Festival F)\n",
        "myd2 = myd2.drop(\"EventName\", axis=1)"
      ],
      "metadata": {
        "id": "P1DOc63sEbE-"
      },
      "execution_count": null,
      "outputs": []
    },
    {
      "cell_type": "code",
      "source": [
        "#creating nmyl2 list for Apriori\n",
        "myl2 = myd2.values.tolist()\n",
        "values2 = set(map(lambda x:x[0], myl2))\n",
        "nmyl2 = [[y[1] for y in myl2 if y[0]==x] for x in values2]\n",
        "len(nmyl2)"
      ],
      "metadata": {
        "colab": {
          "base_uri": "https://localhost:8080/"
        },
        "id": "7DdqKswZEdOu",
        "outputId": "12fb3a64-0033-4db6-d877-cc30b43ab23f"
      },
      "execution_count": null,
      "outputs": [
        {
          "output_type": "execute_result",
          "data": {
            "text/plain": [
              "14453"
            ]
          },
          "metadata": {},
          "execution_count": 17
        }
      ]
    },
    {
      "cell_type": "code",
      "source": [
        "#training nmyl2 Apriori\n",
        "rules2 = apriori(nmyl2, min_support=0.005, min_confidence=0.7, min_lift=3, min_length=2)"
      ],
      "metadata": {
        "id": "GS29hsXGEfqd"
      },
      "execution_count": null,
      "outputs": []
    },
    {
      "cell_type": "code",
      "source": [
        "#the results\n",
        "results2 = list(rules2)\n",
        "print(results2)"
      ],
      "metadata": {
        "colab": {
          "base_uri": "https://localhost:8080/"
        },
        "id": "IpkfX-suEiHs",
        "outputId": "bb7997b9-379b-4597-ace2-c63046c352a6"
      },
      "execution_count": null,
      "outputs": [
        {
          "output_type": "stream",
          "name": "stdout",
          "text": [
            "[RelationRecord(items=frozenset({'M1', 'M7'}), support=0.011900643465024563, ordered_statistics=[OrderedStatistic(items_base=frozenset({'M7'}), items_add=frozenset({'M1'}), confidence=0.7078189300411523, lift=8.51090432269948)]), RelationRecord(items=frozenset({'M1', 'C11', 'M6'}), support=0.005604372794575521, ordered_statistics=[OrderedStatistic(items_base=frozenset({'M1', 'C11'}), items_add=frozenset({'M6'}), confidence=0.7297297297297297, lift=7.4168662333219295)]), RelationRecord(items=frozenset({'M1', 'M6', 'M4'}), support=0.011554694527087801, ordered_statistics=[OrderedStatistic(items_base=frozenset({'M1', 'M4'}), items_add=frozenset({'M6'}), confidence=0.8067632850241545, lift=8.19982402141639), OrderedStatistic(items_base=frozenset({'M4', 'M6'}), items_add=frozenset({'M1'}), confidence=0.7660550458715596, lift=9.211142743745134)]), RelationRecord(items=frozenset({'M1', 'M5', 'M6'}), support=0.0059503217325122815, ordered_statistics=[OrderedStatistic(items_base=frozenset({'M5', 'M6'}), items_add=frozenset({'M1'}), confidence=0.7678571428571429, lift=9.232811385785595)]), RelationRecord(items=frozenset({'M1', 'M6', 'M7'}), support=0.00885629281118107, ordered_statistics=[OrderedStatistic(items_base=frozenset({'M1', 'M7'}), items_add=frozenset({'M6'}), confidence=0.7441860465116279, lift=7.563798122526412), OrderedStatistic(items_base=frozenset({'M6', 'M7'}), items_add=frozenset({'M1'}), confidence=0.7901234567901235, lift=9.500544360222674)]), RelationRecord(items=frozenset({'M1', 'M6', 'M8'}), support=0.005604372794575521, ordered_statistics=[OrderedStatistic(items_base=frozenset({'M6', 'M8'}), items_add=frozenset({'M1'}), confidence=0.7168141592920353, lift=8.619064096711968)]), RelationRecord(items=frozenset({'M1', 'M6', 'M9'}), support=0.007195737909084619, ordered_statistics=[OrderedStatistic(items_base=frozenset({'M1', 'M9'}), items_add=frozenset({'M6'}), confidence=0.7027027027027027, lift=7.1421674839396365), OrderedStatistic(items_base=frozenset({'M6', 'M9'}), items_add=frozenset({'M1'}), confidence=0.732394366197183, lift=8.806402474748657)])]\n"
          ]
        }
      ]
    },
    {
      "cell_type": "code",
      "source": [
        "#Apriori Algorithm only with EventNames\n",
        "myd3 = myd.drop(\"VenueID\", axis=1)\n",
        "myd3 = myd3.drop_duplicates()"
      ],
      "metadata": {
        "id": "UaOtlFT-EkFs"
      },
      "execution_count": null,
      "outputs": []
    },
    {
      "cell_type": "code",
      "source": [
        "#creating nmyl3 list for Apriori algorithm\n",
        "myl3 = myd3.values.tolist()\n",
        "values3 = set(map(lambda x:x[0], myl3))\n",
        "nmyl3 = [[y[1] for y in myl3 if y[0]==x] for x in values3]\n",
        "len(nmyl3)"
      ],
      "metadata": {
        "colab": {
          "base_uri": "https://localhost:8080/"
        },
        "id": "dm3SF6nTEmMX",
        "outputId": "6fd52332-86db-4844-cfd7-3109d598cae6"
      },
      "execution_count": null,
      "outputs": [
        {
          "output_type": "execute_result",
          "data": {
            "text/plain": [
              "23614"
            ]
          },
          "metadata": {},
          "execution_count": 21
        }
      ]
    },
    {
      "cell_type": "code",
      "source": [
        "#training nmyl3 for Apriori Algorithm\n",
        "rules3 = apriori(nmyl3, min_support = 0.001, min_confidence=0.1, min_lift=2, min_length=2)"
      ],
      "metadata": {
        "id": "WD5b0I92EoRg"
      },
      "execution_count": null,
      "outputs": []
    },
    {
      "cell_type": "code",
      "source": [
        "# The Results\n",
        "results3 = list(rules3)\n",
        "print(results3)"
      ],
      "metadata": {
        "colab": {
          "base_uri": "https://localhost:8080/"
        },
        "id": "LiJJ2oqmEqTl",
        "outputId": "80264e37-70a8-4764-b055-f54910e37782"
      },
      "execution_count": null,
      "outputs": [
        {
          "output_type": "stream",
          "name": "stdout",
          "text": [
            "[RelationRecord(items=frozenset({'Festival F', 'Festival M', 'Festival C'}), support=0.010502244431269585, ordered_statistics=[OrderedStatistic(items_base=frozenset({'Festival M'}), items_add=frozenset({'Festival F', 'Festival C'}), confidence=0.10205761316872428, lift=2.792570657434826), OrderedStatistic(items_base=frozenset({'Festival F', 'Festival C'}), items_add=frozenset({'Festival M'}), confidence=0.28736964078794897, lift=2.792570657434826)]), RelationRecord(items=frozenset({'Festival F', 'EventGroup S', 'Festival M', 'Festival C'}), support=0.001185737274498179, ordered_statistics=[OrderedStatistic(items_base=frozenset({'EventGroup S', 'Festival M'}), items_add=frozenset({'Festival F', 'Festival C'}), confidence=0.32941176470588235, lift=9.013591438893053), OrderedStatistic(items_base=frozenset({'Festival F', 'EventGroup S', 'Festival C'}), items_add=frozenset({'Festival M'}), confidence=0.21052631578947367, lift=2.045830625947585), OrderedStatistic(items_base=frozenset({'Festival F', 'EventGroup S', 'Festival M'}), items_add=frozenset({'Festival C'}), confidence=0.717948717948718, lift=2.1112877989590317)])]\n"
          ]
        }
      ]
    },
    {
      "cell_type": "markdown",
      "source": [
        "## Results\n",
        "\n",
        "### Case 1\n",
        "\n",
        "The associations are primarily observed among the Festival F venues. Among these venues, F1 has the highest frequency, making it one of the oldest, central, and popular locations within Festival F. Despite F5 and F7 not being in close proximity to the other Festival F venues, they still appear in the frequent item sets and rules. Notably, there are rules that include different event names, with C5, M1, and M6 being venues related to Festival F.\n",
        "\n",
        "\n",
        "### Case 2\n",
        "\n",
        "\n",
        "By excluding Festival F from the dataset, we observe that the rules mainly involve the Festival M venues. All Festival M venues, except M11, are situated in the European part of Istanbul and appear in the rules. However, M11 does not appear in any of the rules. Additionally, C11 is present in the rules along with M1 and M16.\n",
        "\n",
        "### Case 3\n",
        "\n",
        "\n",
        "When the festival venues variable is excluded, and only the event names are considered, the support, lift, and confidence values are lower compared to the previous implementations. The results reveal association rules between Festival F, Festival M, Festival C, and Event Group S.\n",
        "\n",
        "These results provide valuable insights into the associations between festival venues and event names in different scenarios."
      ],
      "metadata": {
        "id": "i9Wv57Y2Er_O"
      }
    }
  ]
}